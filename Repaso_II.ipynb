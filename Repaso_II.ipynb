{
 "cells": [
  {
   "cell_type": "markdown",
   "id": "d88fc163",
   "metadata": {},
   "source": [
    "# REPASO II"
   ]
  },
  {
   "cell_type": "code",
   "execution_count": null,
   "id": "3a68eb4f",
   "metadata": {},
   "outputs": [],
   "source": [
    "# Suma números hasta que el usuario escriba fin"
   ]
  },
  {
   "cell_type": "code",
   "execution_count": 1,
   "id": "645919f8",
   "metadata": {},
   "outputs": [
    {
     "name": "stdout",
     "output_type": "stream",
     "text": [
      "La suma total es: 20\n"
     ]
    }
   ],
   "source": [
    "suma_total = 0\n",
    "\n",
    "while True:\n",
    "    entrada = input(\"Introduce un número o 'fin' para salir: \")\n",
    "    if entrada.lower() == \"fin\":\n",
    "        break\n",
    "    if entrada.isdigit():\n",
    "        suma_total += int(entrada)\n",
    "    else:\n",
    "        print(\"Por favor, introduce un número válido.\")\n",
    "        \n",
    "print(\"La suma total es:\", suma_total)"
   ]
  },
  {
   "cell_type": "code",
   "execution_count": null,
   "id": "60c12343",
   "metadata": {},
   "outputs": [],
   "source": [
    "# Adivina el número"
   ]
  },
  {
   "cell_type": "code",
   "execution_count": 2,
   "id": "df44c0d2",
   "metadata": {},
   "outputs": [
    {
     "name": "stdout",
     "output_type": "stream",
     "text": [
      "Adivina el número del 1 al 20. Tienes 5 intentos.\n",
      "El número secreto es mayor.\n",
      "Te quedan 4 intentos.\n",
      "Por favor, introduce un número válido.\n",
      "El número secreto es mayor.\n",
      "Te quedan 3 intentos.\n",
      "El número secreto es mayor.\n",
      "Te quedan 2 intentos.\n",
      "El número secreto es mayor.\n",
      "Te quedan 1 intentos.\n",
      "El número secreto es mayor.\n",
      "Te quedan 0 intentos.\n",
      "Se acabaron los intentos. El número era 20\n"
     ]
    }
   ],
   "source": [
    "import random\n",
    "\n",
    "numero_secreto = random.randint(1, 20)\n",
    "intentos = 5\n",
    "\n",
    "print(\"Adivina el número del 1 al 20. Tienes\", intentos, \"intentos.\")\n",
    "\n",
    "while intentos > 0:\n",
    "    try:\n",
    "        intento = int(input(\"Introduce tu número: \"))\n",
    "    except ValueError:\n",
    "        print(\"Por favor, introduce un número válido.\")\n",
    "        continue\n",
    "\n",
    "    if intento == numero_secreto:\n",
    "        print(\"¡Felicidades! Adivinaste el número.\")\n",
    "        break\n",
    "    elif intento < numero_secreto:\n",
    "        print(\"El número secreto es mayor.\")\n",
    "    else:\n",
    "        print(\"El número secreto es menor.\")\n",
    "\n",
    "    intentos -= 1\n",
    "    print(\"Te quedan\", intentos, \"intentos.\")\n",
    "\n",
    "if intentos == 0:\n",
    "    print(\"Se acabaron los intentos. El número era\", numero_secreto)"
   ]
  },
  {
   "cell_type": "code",
   "execution_count": 3,
   "id": "fb5cd2e1",
   "metadata": {},
   "outputs": [],
   "source": [
    "empleados = [\n",
    "    {\"nombre\": \"Ana\", \"edad\": 28, \"departamento\": \"Ventas\"},\n",
    "    {\"nombre\": \"Luis\", \"edad\": 35, \"departamento\": \"Marketing\"},\n",
    "    {\"nombre\": \"Sofía\", \"edad\": 22, \"departamento\": \"IT\"},\n",
    "    {\"nombre\": \"Carlos\", \"edad\": 41, \"departamento\": \"Finanzas\"},\n",
    "    {\"nombre\": \"Laura\", \"edad\": 30, \"departamento\": \"RRHH\"}\n",
    "]"
   ]
  },
  {
   "cell_type": "code",
   "execution_count": null,
   "id": "60404885",
   "metadata": {},
   "outputs": [],
   "source": [
    "#Quiero ver el nombre de los empleados que tienen 30 años o más"
   ]
  },
  {
   "cell_type": "code",
   "execution_count": 4,
   "id": "c23ea253",
   "metadata": {},
   "outputs": [],
   "source": [
    "lista_mas_30 = []"
   ]
  },
  {
   "cell_type": "code",
   "execution_count": 5,
   "id": "4d56fdd0",
   "metadata": {},
   "outputs": [
    {
     "name": "stdout",
     "output_type": "stream",
     "text": [
      "['Luis', 'Carlos', 'Laura']\n"
     ]
    }
   ],
   "source": [
    "for persona in empleados:\n",
    "    if persona[\"edad\"] >= 30:\n",
    "        lista_mas_30.append(persona[\"nombre\"])\n",
    "        \n",
    "print(lista_mas_30)\n"
   ]
  },
  {
   "cell_type": "code",
   "execution_count": null,
   "id": "4ae85006",
   "metadata": {},
   "outputs": [],
   "source": [
    "#Si el nombre del empleado es \"Laura\", cambia su departamento a \"IT\""
   ]
  },
  {
   "cell_type": "code",
   "execution_count": null,
   "id": "f98aa889",
   "metadata": {},
   "outputs": [],
   "source": [
    "for empleado in empleados:\n",
    "    if empleado[\"nombre\"]  == \"Laura\":\n",
    "        empleado[\"departamento\"] = \"IT\""
   ]
  },
  {
   "cell_type": "code",
   "execution_count": null,
   "id": "eecbd2cc",
   "metadata": {},
   "outputs": [],
   "source": [
    "#pide un producto y una cantidad por input y resta lo comprado a la cantidad"
   ]
  },
  {
   "cell_type": "code",
   "execution_count": null,
   "id": "03718dcc",
   "metadata": {},
   "outputs": [],
   "source": [
    "inventario = [\n",
    "    {\"nombre\": \"manzanas\", \"cantidad\": 50},\n",
    "    {\"nombre\": \"naranjas\", \"cantidad\": 30},\n",
    "    {\"nombre\": \"bananas\", \"cantidad\": 20},\n",
    "    {\"nombre\": \"peras\", \"cantidad\": 15}\n",
    "]"
   ]
  },
  {
   "cell_type": "code",
   "execution_count": null,
   "id": "e4acdaf2",
   "metadata": {},
   "outputs": [],
   "source": [
    "producto = input(\"Dime un producto\")\n",
    "cantidad = int(input(\"¿Cuántos quieres\"))"
   ]
  },
  {
   "cell_type": "code",
   "execution_count": null,
   "id": "fc697afc",
   "metadata": {},
   "outputs": [],
   "source": [
    "for elemento in inventario:\n",
    "    if elemento[\"nombre\"] == producto:\n",
    "        elemento[\"cantidad\"] -= cantidad\n",
    "        print(inventario)\n",
    "        break\n",
    "else:\n",
    "    print(\"El producto no existe\")"
   ]
  },
  {
   "cell_type": "code",
   "execution_count": null,
   "id": "2433dda6",
   "metadata": {},
   "outputs": [],
   "source": [
    "def hacer_pedido(nombre, cantidad):\n",
    "    for elemento in inventario:\n",
    "        if elemento[\"nombre\"] == nombre:\n",
    "            if cantidad > elemento[\"cantidad\"]:\n",
    "                print(\"No hay stock\")\n",
    "                break\n",
    "            else: \n",
    "                elemento[\"cantidad\"] -= cantidad\n",
    "            print(inventario)\n",
    "            return inventario\n",
    "    else:\n",
    "        print(\"El producto no existe\")"
   ]
  },
  {
   "cell_type": "code",
   "execution_count": null,
   "id": "7fc9ccf3",
   "metadata": {},
   "outputs": [],
   "source": [
    "#Crea una función a la que pasarle un producto y una cantidad.\n",
    "# Si ya existe ese producto, actualizar cantidad, si no, crea uno nuevo"
   ]
  },
  {
   "cell_type": "code",
   "execution_count": null,
   "id": "9084a8a2",
   "metadata": {},
   "outputs": [],
   "source": [
    "def comprobar_producto(nombre,cantidad):\n",
    "    for elemento in inventario:\n",
    "        if elemento[\"nombre\"] == nombre:\n",
    "            elemento[\"cantidad\"] += cantidad\n",
    "            break\n",
    "    else:\n",
    "        inventario.append({\"nombre\":nombre, \"cantidad\":cantidad})"
   ]
  },
  {
   "cell_type": "code",
   "execution_count": null,
   "id": "1390e5f0",
   "metadata": {},
   "outputs": [],
   "source": [
    "comprobar_producto(\"bananas\",10)"
   ]
  },
  {
   "cell_type": "code",
   "execution_count": 8,
   "id": "ff423355",
   "metadata": {},
   "outputs": [],
   "source": [
    "class Biblioteca:\n",
    "    def __init__(self):\n",
    "        self.libros = [{\"titulo\": \"El Principito\", \"autor\": \"Antoine Saint-Exupéry\", \"cantidad\":30}, {\"titulo\": \"El Quijote\", \"autor\": \"Cervantes\", \"cantidad\":30}] \n",
    "        self.usuarias = {\"Ana Vega\":50, \"Carla Cuevas\":200}\n",
    "    \n",
    "    \n",
    "    def agregar_libro(self, titulo, autor, cantidad):\n",
    "        for libro in self.libros:\n",
    "            if libro['titulo'] == titulo:\n",
    "                libro['cantidad'] += cantidad\n",
    "                return\n",
    "        nuevo_libro = {'titulo': titulo, 'autor':autor, 'cantidad': cantidad}\n",
    "        self.libros.append(nuevo_libro)\n",
    "\n",
    "    def ver_libros(self):\n",
    "        for libro in self.libros:\n",
    "            print(f\"Título: {libro['titulo']}, Autor: {libro['autor']}),  Cantidad: {libro['cantidad']}\")\n",
    "\n",
    "    def buscar_libro(self, titulo):\n",
    "        for libro in self.libros:\n",
    "            if libro['titulo'] == titulo:\n",
    "                print(f\"Título: {libro['titulo']}, Autor: {libro['autor']}, Cantidad: {libro['cantidad']}\")\n",
    "                return\n",
    "        print(f\"El libro '{titulo}' no está disponible en la biblioteca.\")\n",
    "\n",
    "    def añadir_usuaria(self, nombre, prestamos):\n",
    "        if nombre in self.usuarias:\n",
    "            print(\"Persona ya registrada\")\n",
    "        else:\n",
    "            self.usuarias.update({nombre:prestamos})\n",
    "\n",
    "    def eliminar_libro(self, titulo):\n",
    "        for libro in self.libros:\n",
    "             if libro['titulo'] == titulo:\n",
    "                 self.libros.remove(libro)\n",
    "                 print(f\"Se eliminó el libro {titulo}\")\n",
    "                 return\n",
    "        print(f\"El libro {titulo} no está en el inventario\")\n",
    "\n",
    "    def total_libros(self):\n",
    "        total = 0\n",
    "        for libro in self.libros:\n",
    "            total+=libro[\"cantidad\"]\n",
    "        return total\n",
    "    \n",
    "    def hacer_prestamo(self):\n",
    "        libros_prestados = []\n",
    "        continuar = True\n",
    "\n",
    "        while continuar:\n",
    "            self.ver_libros()\n",
    "            titulo = input(\"¿Qué libro quieres llevarte? O escribe terminar para salir\")\n",
    "            if titulo == \"terminar\":\n",
    "                continuar = False\n",
    "            else:\n",
    "                for libro in self.libros:\n",
    "                    if libro[\"titulo\"] == titulo and libro[\"cantidad\"] > 0:\n",
    "                        libros_prestados.append(titulo)\n",
    "                        libro[\"cantidad\"] -= 1\n",
    "                else:\n",
    "                    print(f\"El libro {titulo} no está en el inventario\")\n",
    "        print(f\"Aquí tienes: {libros_prestados}\")\n",
    "    \n",
    "\n",
    "    def ver_usuarias(self):\n",
    "        print(self.usuarias)"
   ]
  },
  {
   "cell_type": "code",
   "execution_count": 3,
   "id": "97053735",
   "metadata": {},
   "outputs": [],
   "source": [
    "biblioteca_del_pueblo = Biblioteca()"
   ]
  },
  {
   "cell_type": "code",
   "execution_count": 4,
   "id": "16719f40",
   "metadata": {},
   "outputs": [],
   "source": [
    "biblioteca_del_pueblo.agregar_libro(\"El Quijote\", \"Cervantes\", 50)"
   ]
  },
  {
   "cell_type": "code",
   "execution_count": 5,
   "id": "d158c169",
   "metadata": {},
   "outputs": [],
   "source": [
    "libros = [\n",
    "    [\"Cien años de soledad\", \"Gabriel García Márquez\", 1],\n",
    "    [\"La casa de los espíritus\", \"Isabel Allende\", 2],\n",
    "    [\"Mujer en punto cero\", \"Nawal El Saadawi\", 3],\n",
    "    [\"Orgullo y prejuicio\", \"Jane Austen\", 4],\n",
    "    [\"Frankenstein\", \"Mary Shelley\", 5],\n",
    "    [\"La campana de cristal\", \"Sylvia Plath\", 6],\n",
    "    [\"Pequeñas mujeres\", \"Louisa May Alcott\", 7],\n",
    "    [\"El cuento de la criada\", \"Margaret Atwood\", 8],\n",
    "    [\"Como agua para chocolate\", \"Laura Esquivel\", 9],\n",
    "    [\"Los hombres me explican cosas\", \"Rebecca Solnit\", 10],\n",
    "    [\"Yo sé por qué canta el pájaro enjaulado\", \"Maya Angelou\", 11],\n",
    "    [\"Beloved\", \"Toni Morrison\", 12],\n",
    "    [\"Los recuerdos del porvenir\", \"Elena Garro\", 13],\n",
    "    [\"El país de las mujeres\", \"Gioconda Belli\", 14],\n",
    "    [\"La ridícula idea de no volver a verte\", \"Rosa Montero\", 15],\n",
    "    [\"Persépolis\", \"Marjane Satrapi\", 16],\n",
    "    [\"El abanico de seda\", \"Lisa See\", 17],\n",
    "    [\"La tía Julia y el escribidor\", \"Julia Urquidi Illanes\", 18],\n",
    "    [\"Americanah\", \"Chimamanda Ngozi Adichie\", 19],\n",
    "    [\"Todos deberíamos ser feministas\", \"Chimamanda Ngozi Adichie\", 20]]"
   ]
  },
  {
   "cell_type": "code",
   "execution_count": 6,
   "id": "a8ad0b54",
   "metadata": {},
   "outputs": [],
   "source": [
    "for libro in libros:\n",
    "    biblioteca_del_pueblo.agregar_libro(libro[0], libro[1], libro[2])"
   ]
  },
  {
   "cell_type": "code",
   "execution_count": null,
   "id": "490cdc10",
   "metadata": {},
   "outputs": [],
   "source": [
    "biblioteca_del_pueblo.total_libros()"
   ]
  },
  {
   "cell_type": "code",
   "execution_count": null,
   "id": "eaed44be",
   "metadata": {},
   "outputs": [],
   "source": [
    "biblioteca_del_pueblo.eliminar_libro(\"El Principito\")"
   ]
  },
  {
   "cell_type": "code",
   "execution_count": null,
   "id": "42e0ce99",
   "metadata": {},
   "outputs": [],
   "source": [
    "biblioteca_del_pueblo.ver_libros()"
   ]
  },
  {
   "cell_type": "code",
   "execution_count": 7,
   "id": "a997bfb6",
   "metadata": {},
   "outputs": [
    {
     "ename": "NameError",
     "evalue": "name 'biblioteca_del_pueblo' is not defined",
     "output_type": "error",
     "traceback": [
      "\u001b[1;31m---------------------------------------------------------------------------\u001b[0m",
      "\u001b[1;31mNameError\u001b[0m                                 Traceback (most recent call last)",
      "Cell \u001b[1;32mIn[7], line 1\u001b[0m\n\u001b[1;32m----> 1\u001b[0m biblioteca_del_pueblo\u001b[38;5;241m.\u001b[39mhacer_prestamo()\n",
      "\u001b[1;31mNameError\u001b[0m: name 'biblioteca_del_pueblo' is not defined"
     ]
    }
   ],
   "source": [
    "biblioteca_del_pueblo.hacer_prestamo()"
   ]
  }
 ],
 "metadata": {
  "kernelspec": {
   "display_name": "base",
   "language": "python",
   "name": "python3"
  },
  "language_info": {
   "codemirror_mode": {
    "name": "ipython",
    "version": 3
   },
   "file_extension": ".py",
   "mimetype": "text/x-python",
   "name": "python",
   "nbconvert_exporter": "python",
   "pygments_lexer": "ipython3",
   "version": "3.13.5"
  }
 },
 "nbformat": 4,
 "nbformat_minor": 5
}

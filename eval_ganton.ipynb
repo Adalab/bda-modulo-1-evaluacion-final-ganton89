{
 "cells": [
  {
   "cell_type": "markdown",
   "id": "6f076c1f",
   "metadata": {},
   "source": [
    "### Evaluación Final Módulo 1 Data Analytics\n",
    "##### Gema\n"
   ]
  },
  {
   "cell_type": "code",
   "execution_count": 90,
   "id": "92bb1b03",
   "metadata": {},
   "outputs": [],
   "source": [
    "# New class \n",
    "\n",
    "class OnlineShop():\n",
    "    def __init__(self, nombre, precio, cantidad):          # __init__ as a constructor method, where we will pass the name, price and quantity when we create an object.\n",
    "        self.nombre = nombre\n",
    "        self.precio = precio\n",
    "        self.cantidad = cantidad\n",
    "        self.inventario =[]                                # At the begining, inventory is an empy list.\n",
    "        self.ventas_totales = 0\n",
    "\n",
    "    def agregar_producto(self, nombre, precio, cantidad):\n",
    "        #First, check if the item exists.\n",
    "        nombre=nombre.title()\n",
    "        for i in self.inventario:\n",
    "            if i['nombre'] == nombre:\n",
    "                 i['cantidad'] += cantidad\n",
    "                 return\n",
    "        \n",
    "                \n",
    "        new_product ={'nombre':nombre, 'precio': precio, 'cantidad': cantidad}\n",
    "        self.inventario.append(new_product)             \n",
    "            \n",
    "    def ver_inventario(self):\n",
    "        #Vamos a recorrer el inventario para imprimirlo, pasando la clave\n",
    "        for i in self.inventario:\n",
    "            print(f\"Nombre: {i['nombre']}, Precio: {i['precio']}€, Cantidad: {i['cantidad']}\")    \n",
    "\n",
    "\n",
    "    def buscar_producto(self, nombre):\n",
    "        for i in self.inventario:\n",
    "            #busqueda por nombre\n",
    "            if i['nombre']==nombre and i['cantidad']<=0:\n",
    "                print('Producto encontrado sin Stock')\n",
    "                return\n",
    "            elif i['nombre'] == nombre and i['cantidad']>0:\n",
    "                print('Producto encontrado')\n",
    "                print('------------------------------')\n",
    "                print(f\"Nombre: {i['nombre']}, Precio: {i['precio']}€, Cantidad: {i['cantidad']}\") \n",
    "                return\n",
    "\n",
    "\n",
    "        print('Producto no disponible')    \n",
    "\n",
    "\n",
    "    def actualizar_stock(self, nombre, cantidad):\n",
    "        nombre=nombre.title()\n",
    "        for i in self.inventario:\n",
    "            if i['nombre'] == nombre:\n",
    "                 i['cantidad'] += cantidad\n",
    "                 return\n",
    "            \n",
    "        print('El artículo no existe, asegúrate de lo que buscas')    \n",
    "\n",
    "\n",
    "    def eliminar_producto(self,nombre):\n",
    "        nombre=nombre.title()\n",
    "        for i in self.inventario:\n",
    "            if i['nombre'] == nombre:\n",
    "                self.inventario.remove(i) \n",
    "                print('Articulo eliminado correctamente, el inventario actual es:')\n",
    "                self.ver_inventario()\n",
    "                return\n",
    "            \n",
    "        print('El artículo no existe')   \n",
    "\n",
    "    def calcular_valor_inventario(self):\n",
    "        total_inv = 0\n",
    "        print('El inventario actual es:')  \n",
    "        self.ver_inventario()\n",
    "        print('-----------------------------')\n",
    "        print('El valor es:')   \n",
    "\n",
    "        for i in self.inventario:\n",
    "            total_inv += i['cantidad']*i['precio']\n",
    "\n",
    "        print(f'{total_inv}€') \n"
   ]
  },
  {
   "cell_type": "code",
   "execution_count": 91,
   "id": "0ba384b1",
   "metadata": {},
   "outputs": [],
   "source": [
    "zara = OnlineShop('z','50', 1)"
   ]
  },
  {
   "cell_type": "code",
   "execution_count": 94,
   "id": "95db29dd",
   "metadata": {},
   "outputs": [],
   "source": [
    "zara.agregar_producto('Pantalon',40,1)"
   ]
  },
  {
   "cell_type": "code",
   "execution_count": 88,
   "id": "244423f5",
   "metadata": {},
   "outputs": [
    {
     "name": "stdout",
     "output_type": "stream",
     "text": [
      "Nombre: Pantalon, Precio: 50€, Cantidad: 1\n",
      "Nombre: Falda, Precio: 50€, Cantidad: 1\n",
      "Nombre: Jersey, Precio: 50€, Cantidad: 1\n"
     ]
    }
   ],
   "source": [
    "zara.ver_inventario()\n"
   ]
  },
  {
   "cell_type": "code",
   "execution_count": 66,
   "id": "322d4e62",
   "metadata": {},
   "outputs": [
    {
     "name": "stdout",
     "output_type": "stream",
     "text": [
      "Producto encontrado\n",
      "------------------------------\n",
      "Nombre: Falda, Precio: 50€, Cantidad: 1\n"
     ]
    }
   ],
   "source": [
    "product = input(\"¿Qué producto quieres buscar\").strip().title()\n",
    "zara.buscar_producto(product)"
   ]
  },
  {
   "cell_type": "code",
   "execution_count": 82,
   "id": "091b6e09",
   "metadata": {},
   "outputs": [
    {
     "name": "stdout",
     "output_type": "stream",
     "text": [
      "Articulo eliminado correctamente, el inventario actual es:\n",
      "Nombre: Jersey, Precio: 50€, Cantidad: 1\n",
      "Nombre: Pantalon, Precio: 50€, Cantidad: 1\n"
     ]
    }
   ],
   "source": [
    "product=input(\"¿Qué producto quieres buscar\").strip().title()\n",
    "zara.eliminar_producto(product)"
   ]
  },
  {
   "cell_type": "code",
   "execution_count": 95,
   "id": "d9865a5b",
   "metadata": {},
   "outputs": [
    {
     "name": "stdout",
     "output_type": "stream",
     "text": [
      "El inventario actual es:\n",
      "Nombre: Jersey, Precio: 50€, Cantidad: 1\n",
      "Nombre: Falda, Precio: 50€, Cantidad: 1\n",
      "Nombre: Pantalon, Precio: 40€, Cantidad: 1\n",
      "-----------------------------\n",
      "El valor es:\n",
      "140€\n"
     ]
    }
   ],
   "source": [
    "zara.calcular_valor_inventario()"
   ]
  }
 ],
 "metadata": {
  "kernelspec": {
   "display_name": "base",
   "language": "python",
   "name": "python3"
  },
  "language_info": {
   "codemirror_mode": {
    "name": "ipython",
    "version": 3
   },
   "file_extension": ".py",
   "mimetype": "text/x-python",
   "name": "python",
   "nbconvert_exporter": "python",
   "pygments_lexer": "ipython3",
   "version": "3.13.5"
  }
 },
 "nbformat": 4,
 "nbformat_minor": 5
}

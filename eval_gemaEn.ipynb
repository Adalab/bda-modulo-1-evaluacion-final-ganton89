{
 "cells": [
  {
   "cell_type": "markdown",
   "id": "d08bd316",
   "metadata": {},
   "source": [
    "## Exercise in English\n",
    "### Gema Antón\n",
    "------------------------------------"
   ]
  },
  {
   "cell_type": "code",
   "execution_count": 96,
   "id": "3512ba2e",
   "metadata": {},
   "outputs": [],
   "source": [
    "# New class \n",
    "\n",
    "class OnlineShop():\n",
    "    def __init__(self, name, price, quantity):          # __init__ as a constructor method, where we will pass the name, price and quantity when we create an object.\n",
    "        self.name = name\n",
    "        self.price = price\n",
    "        self.quantity = quantity\n",
    "        self.inventory =[]                                # At the begining, inventory is an empy list.\n",
    "        self.total_sales = 0\n",
    "        self.customers = {}\n",
    "        self.name_cus =''\n",
    "        self.email =''\n",
    "\n",
    "\n",
    "\n",
    "    def add_product(self, name, price, quantity):\n",
    "        #This method is going to check if the product exists (if and for are required) and increase the quantity\n",
    "        #if not, it will add a new product in the list as a dictionary\n",
    "\n",
    "        name=name.title()\n",
    "        for i in self.inventory:\n",
    "            if i['name'] == name:\n",
    "                 i['quantity'] += quantity\n",
    "                 return\n",
    "        \n",
    "                \n",
    "        new_product ={'name':name, 'price': price, 'quantity': quantity} #New dict\n",
    "        self.inventory.append(new_product)                               # Add the dict in the list\n",
    "\n",
    "\n",
    "\n",
    "            \n",
    "    def view_inventory(self):\n",
    "        #Let's go through the inventory to print it, passing the key to search for the value.\n",
    "        # For is required in this case, only print because is the main propouse.\n",
    "        for i in self.inventory:\n",
    "            print(f\"Name: {i['name']}, Price: {i['price']}€, Quantity: {i['quantity']}\")    \n",
    "\n",
    "\n",
    "\n",
    "    def look_for_product(self, name):\n",
    "        #The user provides us a product´s name\n",
    "                \n",
    "        for i in self.inventory:\n",
    "            #Search by name\n",
    "            # We are checking if the product is out of stock and exists.\n",
    "            if i['name']==name and i['quantity'] <= 0:\n",
    "                print('Product is correct, but is out of stock :( ')\n",
    "                return\n",
    "            elif i['name'] == name and i['quantity'] > 0:\n",
    "                print('Product avaiable')\n",
    "                print('------------------------------')\n",
    "                print(f\"Name: {i['name']}, Price: {i['price']}€, Quantity: {i['quantity']}\") \n",
    "                return\n",
    "\n",
    "\n",
    "        print('Product is not avaiable')    \n",
    "\n",
    "\n",
    "    def update_stock(self, name, quantity):\n",
    "        #This method is going to update the quantity, we need 'name' and 'quantity' in order to add this amount to quantity\n",
    "        #First of all, it would be check if the product exists, in this case we will add the quantity\n",
    "        name=name.title()\n",
    "        for i in self.inventory:\n",
    "            if i['name'] == name:\n",
    "                 i['quantity'] += quantity\n",
    "                 print(f'The product {i['name']} has benn updated, currently quantity: {i['quantity']}')\n",
    "                 return\n",
    "            \n",
    "        print('The product doesn´t exist, Please, make sure the name :( ')    \n",
    "\n",
    "\n",
    "\n",
    "    def delete_product(self,name):\n",
    "        #This method removes the dictionary from the list, using the name we pass as the key. \n",
    "        name=name.title()\n",
    "        for i in self.inventory:\n",
    "            if i['name'] == name:\n",
    "                self.inventory.remove(i) \n",
    "                print('The product has been remove from the inventory successfully:')\n",
    "                self.view_inventory()\n",
    "                return\n",
    "            \n",
    "        print('The product doesn´t exist')   \n",
    "\n",
    "\n",
    "    def total_value_inventory(self):\n",
    "        #This method is going to calculate the total value\n",
    "        #Every round of for will calculare price * quantity and it will be save in total_sales \n",
    "        self.total_sales = 0\n",
    "        print('The current inventory is:')  \n",
    "        self.view_inventory()\n",
    "        print('-----------------------------')\n",
    "        print('The total value of the inventory is:')   \n",
    "\n",
    "        for i in self.inventory:\n",
    "            self.total_sales += i['quantity']*i['price']\n",
    "\n",
    "        print(f'{self.total_sales}€') \n",
    "\n",
    "\n",
    "\n",
    "     ### Bonus\n",
    "     #\n",
    "\n",
    "    def create_customer(self,name_c, email):\n",
    "        #Creatinf new customer\n",
    "        #Add a name + email\n",
    "        #Check if it exists\n",
    "        name_c=name_c.strip().title()\n",
    "              \n",
    "        if name_c in self.customers:\n",
    "            print('User is already created')\n",
    "        else:\n",
    "            self.customers[name_c]= {'email': email,'compras': []}\n",
    "            #print(self.customers)\n",
    "\n",
    "\n",
    "\n",
    "    def view_customer(self):\n",
    "        #We are reading the dictionay, the first access by key, second into a second key int a second dictionay\n",
    "        for i in self.customers:\n",
    "            print(f'Customer: {i} Email: {self.customers[i]['email']}') #inside the main dictionaty there is another, the key is email\n",
    "            print(f'Purchase done: {self.customers[i]['compras']}')     #inside the main dictionaty there is another, the key is the list compras (sorry for the spanish word)\n",
    "                   \n",
    "\n",
    "    def purchase(self):\n",
    "        # Customer will buy a product    \n",
    "        # add compras\n",
    "        \n",
    "        self.view_inventory()\n",
    "        print(f'------WELCOME TO --- {self.name.upper()} STORE-------')\n",
    "\n",
    "        #Show the inventory, then choose the customer but if her/him doesn´t exist it breaks\n",
    "        \n",
    "        try:\n",
    "\n",
    "             cust = input('Who is the customer?:').strip().title()\n",
    "             if cust in self.customers:\n",
    "                # if customer in self.customers:\n",
    "                print(f'Welcome!! {cust}')\n",
    "            \n",
    "                while True:\n",
    "                    \n",
    "                    buy_prod = input('Which product would you like to buy?').strip().title()\n",
    "                    num_buy = int(input(\"How many items would you want?:\"))\n",
    "                    found = False\n",
    "                    \n",
    "                    for i in self.inventory:\n",
    "                        if i['name'] == buy_prod:\n",
    "                            price_pur = i['price']  #add\n",
    "                            purchase ={buy_prod:num_buy,'price':price_pur,'quantity':num_buy} #add\n",
    "                            self.customers[cust]['compras'].append(purchase)\n",
    "                            i['quantity'] -=num_buy      \n",
    "\n",
    "                            #Add to the list [0,1] name , number\n",
    "                            exit = input('Would you like to end the purchas? (Y/N)').lower()\n",
    "                            #Update inventory\n",
    "                            found = True\n",
    "                        \n",
    "                            if exit == 'y':\n",
    "                                #print the purchase\n",
    "                                #self.view_inventory()  \n",
    "                                return\n",
    "                    if not found:\n",
    "                        print('Product doesn´t exist')\n",
    "                        break\n",
    "             else:\n",
    "                 print('Customer doen´t exist')       \n",
    "\n",
    "                    \n",
    "        except: print(\"There was a problem....please, check it.\")\n",
    "            \n",
    "\n",
    "    def payment(self):\n",
    "        #choose again the name of the customer, the, select the list compras\n",
    "        print('Processing payment')\n",
    "        print('..................................')\n",
    "        cust = input('Who is the customer?:').strip().title()\n",
    "        purchase = 0\n",
    "\n",
    "        if cust in self.customers:\n",
    "            #ok, process the payment\n",
    "            #scroll the list\n",
    "            carrito=self.customers[cust]['compras']\n",
    "            item =len(carrito)\n",
    "            for i in range(item):\n",
    "                purchase += carrito[i]['price'] * carrito[i]['quantity'] \n",
    "                #print(carrito[i]['price'])\n",
    "                #print(carrito[i]['quantity'])\n",
    "                            \n",
    "            \n",
    "            \n",
    "            print(f'The total amount to pay is: {purchase}€')\n",
    "            print(f'Thank you for your purchase {cust}!!')\n",
    "            self.customers[cust]['compras'].clear()\n",
    "        else:\n",
    "            print('Customer doesn´t exist, please, check it')\n",
    "            return\n",
    "            "
   ]
  },
  {
   "cell_type": "code",
   "execution_count": 86,
   "id": "4551a7c4",
   "metadata": {},
   "outputs": [],
   "source": [
    "#Creating a object\n",
    "\n",
    "zara = OnlineShop('Zara',10,2)"
   ]
  },
  {
   "cell_type": "code",
   "execution_count": 87,
   "id": "b79e3b31",
   "metadata": {},
   "outputs": [],
   "source": [
    "#Adding some products (name, price, quantity)\n",
    "zara.add_product('Blouse',29,50)\n",
    "zara.add_product('Jeans',40,10)\n",
    "zara.add_product('T-shirt',20,10)"
   ]
  },
  {
   "cell_type": "code",
   "execution_count": 88,
   "id": "e30d7617",
   "metadata": {},
   "outputs": [
    {
     "name": "stdout",
     "output_type": "stream",
     "text": [
      "Name: Blouse, Price: 29€, Quantity: 50\n",
      "Name: Jeans, Price: 40€, Quantity: 10\n",
      "Name: T-Shirt, Price: 20€, Quantity: 10\n"
     ]
    }
   ],
   "source": [
    "#As the name says, view inventory\n",
    "zara.view_inventory()"
   ]
  },
  {
   "cell_type": "code",
   "execution_count": 7,
   "id": "ecbe6bfe",
   "metadata": {},
   "outputs": [
    {
     "name": "stdout",
     "output_type": "stream",
     "text": [
      "Product avaiable\n",
      "------------------------------\n",
      "Name: Blouse, Price: 29€, Quantity: 50\n"
     ]
    }
   ],
   "source": [
    "#Asking for a product name, make sure the correct value with strip and title\n",
    "prod = input(\"Which product are you looking for?\").strip().title()\n",
    "zara.look_for_product(prod)"
   ]
  },
  {
   "cell_type": "code",
   "execution_count": 76,
   "id": "2e7367b5",
   "metadata": {},
   "outputs": [
    {
     "name": "stdout",
     "output_type": "stream",
     "text": [
      "The product Jeans has benn updated, currently quantity: 2\n"
     ]
    }
   ],
   "source": [
    "#We are asking for the product name and quantity, then, call to method and pass the variables.\n",
    "#This will provide us an updated inventory after adding the quantity\n",
    "prod = input(\"Which product do you want to update?\").strip().title()\n",
    "num_prod = int(input(\"how many?\").strip().title())\n",
    "zara.update_stock(prod,num_prod)"
   ]
  },
  {
   "cell_type": "code",
   "execution_count": 17,
   "id": "9c48ecf2",
   "metadata": {},
   "outputs": [
    {
     "name": "stdout",
     "output_type": "stream",
     "text": [
      "The product has been remove from the inventory successfully:\n",
      "Name: Blouse, Price: 29€, Quantity: 30\n",
      "Name: T-Shirt, Price: 20€, Quantity: 30\n"
     ]
    }
   ],
   "source": [
    "prod = input(\"Which product do you want to delete?\").strip().title()\n",
    "zara.delete_product(prod)"
   ]
  },
  {
   "cell_type": "code",
   "execution_count": 94,
   "id": "5f42bdc4",
   "metadata": {},
   "outputs": [
    {
     "name": "stdout",
     "output_type": "stream",
     "text": [
      "The current inventory is:\n",
      "Name: Blouse, Price: 29€, Quantity: 50\n",
      "Name: Jeans, Price: 40€, Quantity: 8\n",
      "Name: T-Shirt, Price: 20€, Quantity: 10\n",
      "-----------------------------\n",
      "The total value of the inventory is:\n",
      "1970€\n"
     ]
    }
   ],
   "source": [
    "zara.total_value_inventory()"
   ]
  },
  {
   "cell_type": "code",
   "execution_count": 90,
   "id": "20d5eb58",
   "metadata": {},
   "outputs": [],
   "source": [
    "zara.create_customer('Gema','gema@email.com')\n",
    "zara.create_customer('Marta','marta@email.com')"
   ]
  },
  {
   "cell_type": "code",
   "execution_count": 91,
   "id": "1c180f96",
   "metadata": {},
   "outputs": [
    {
     "name": "stdout",
     "output_type": "stream",
     "text": [
      "Customer: Gema Email: gema@email.com\n",
      "Purchase done: []\n",
      "Customer: Marta Email: marta@email.com\n",
      "Purchase done: []\n"
     ]
    }
   ],
   "source": [
    "zara.view_customer()"
   ]
  },
  {
   "cell_type": "code",
   "execution_count": 92,
   "id": "6cee489c",
   "metadata": {},
   "outputs": [
    {
     "name": "stdout",
     "output_type": "stream",
     "text": [
      "Name: Blouse, Price: 29€, Quantity: 50\n",
      "Name: Jeans, Price: 40€, Quantity: 10\n",
      "Name: T-Shirt, Price: 20€, Quantity: 10\n",
      "------WELCOME TO --- ZARA STORE-------\n",
      "Welcome!! Gema\n"
     ]
    }
   ],
   "source": [
    "zara.purchase()\n"
   ]
  },
  {
   "cell_type": "code",
   "execution_count": 93,
   "id": "3db620ef",
   "metadata": {},
   "outputs": [
    {
     "name": "stdout",
     "output_type": "stream",
     "text": [
      "Processing payment\n",
      "..................................\n",
      "80\n",
      "The total amount to pay is: 80€\n",
      "Thank you for your purchase!!\n"
     ]
    }
   ],
   "source": [
    "zara.payment()"
   ]
  }
 ],
 "metadata": {
  "kernelspec": {
   "display_name": "base",
   "language": "python",
   "name": "python3"
  },
  "language_info": {
   "codemirror_mode": {
    "name": "ipython",
    "version": 3
   },
   "file_extension": ".py",
   "mimetype": "text/x-python",
   "name": "python",
   "nbconvert_exporter": "python",
   "pygments_lexer": "ipython3",
   "version": "3.13.5"
  }
 },
 "nbformat": 4,
 "nbformat_minor": 5
}
